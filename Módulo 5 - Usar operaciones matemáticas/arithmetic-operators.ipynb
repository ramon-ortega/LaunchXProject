{
 "cells": [
  {
   "cell_type": "markdown",
   "metadata": {},
   "source": [
    "# Operadores Aritméticos\n",
    "\n",
    "Programa que calcula la distancia entre dos planetas. \n",
    "\n",
    "Tierra(149,597,870 km)\n",
    "\n",
    "Júpiter(778,547,200 km)"
   ]
  },
  {
   "cell_type": "code",
   "execution_count": 2,
   "metadata": {},
   "outputs": [
    {
     "name": "stdout",
     "output_type": "stream",
     "text": [
      "La distancia entre la Tierra y Jupiter es 628949330 km\n",
      "La distancia entre la Tierra y Jupiter es 390577533.93 millas\n"
     ]
    }
   ],
   "source": [
    "distanciaTierra = 149597870\n",
    "distanciaJupiter = 778547200\n",
    "\n",
    "distanciaPlanetas = abs(distanciaTierra - distanciaJupiter)\n",
    "print(f\"La distancia entre la Tierra y Jupiter es {distanciaPlanetas} km\")\n",
    "print(f\"La distancia entre la Tierra y Jupiter es {0.621 * distanciaPlanetas} millas\")"
   ]
  },
  {
   "cell_type": "markdown",
   "metadata": {},
   "source": [
    "## Crear una aplicación para trabajar con números y entrada de usuario\n",
    "Vamos a leer la distancia del sol para dos planetas, y luego mostrar la distancia entre los planetas. Haremos esto usando input para leer los valores, int para convertir a entero y luego abs para convertir el resultado en su valor absoluto."
   ]
  },
  {
   "cell_type": "code",
   "execution_count": 4,
   "metadata": {},
   "outputs": [
    {
     "name": "stdout",
     "output_type": "stream",
     "text": [
      "La distancia entre los planetas es de 209 km\n",
      "La distancia entre los planetas es de 129.789 millas\n"
     ]
    }
   ],
   "source": [
    "distanciaPlaneta1 = input(\"Ingresa la distancia en km del planeta 1 hacia el sol\")\n",
    "distanciaPlaneta2 = input(\"Ingresa la distancia en km del planeta 2 hacia el sol\")\n",
    "distanciaPlaneta1 = int(distanciaPlaneta1)\n",
    "distanciaPlaneta2 = int(distanciaPlaneta2)\n",
    "distanciaEntrePlanetas = abs(distanciaPlaneta1 - distanciaPlaneta2)\n",
    "\n",
    "print(f\"La distancia entre los planetas es de {distanciaEntrePlanetas} km\")\n",
    "print(f\"La distancia entre los planetas es de {0.621 * distanciaEntrePlanetas} millas\")"
   ]
  },
  {
   "cell_type": "code",
   "execution_count": null,
   "metadata": {},
   "outputs": [],
   "source": []
  },
  {
   "cell_type": "code",
   "execution_count": null,
   "metadata": {},
   "outputs": [],
   "source": []
  }
 ],
 "metadata": {
  "interpreter": {
   "hash": "df0893f56f349688326838aaeea0de204df53a132722cbd565e54b24a8fec5f6"
  },
  "kernelspec": {
   "display_name": "Python 3.8.10 64-bit",
   "language": "python",
   "name": "python3"
  },
  "language_info": {
   "codemirror_mode": {
    "name": "ipython",
    "version": 3
   },
   "file_extension": ".py",
   "mimetype": "text/x-python",
   "name": "python",
   "nbconvert_exporter": "python",
   "pygments_lexer": "ipython3",
   "version": "3.8.10"
  },
  "orig_nbformat": 4
 },
 "nbformat": 4,
 "nbformat_minor": 2
}
