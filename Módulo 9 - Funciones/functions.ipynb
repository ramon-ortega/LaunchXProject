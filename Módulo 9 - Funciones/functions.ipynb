{
 "cells": [
  {
   "cell_type": "markdown",
   "metadata": {},
   "source": [
    "# Uso de funciones en Python\n",
    "\n",
    "## Trabajar con argumentos en funciones\n",
    "\n",
    "En este ejercicio, construirás un informe de combustible que requiere información de varias ubicaciones de combustible en todo el cohete.\n",
    "\n",
    "Comienza por crear una función que necesite tres lecturas de combustible y devuelva un informe:"
   ]
  },
  {
   "cell_type": "code",
   "execution_count": 31,
   "metadata": {},
   "outputs": [],
   "source": [
    "def report_fuel(upper_tank, intermediate_tank, bottom_tank):\n",
    "    return f\"\"\"The fuel report: \n",
    "        Upper Tank: {upper_tank}\n",
    "        Intermediate Tank: {intermediate_tank}\n",
    "        Bottom Tank: {bottom_tank}\n",
    "        Average Gasoline: {average_gasoline(upper_tank, intermediate_tank, bottom_tank)}\"\"\""
   ]
  },
  {
   "cell_type": "markdown",
   "metadata": {},
   "source": [
    "En lugar de simplemente crear el informe, la función también está calculando el promedio. Mejora la legibilidad extrayendo el cálculo promedio de la función en una nueva función para que el promedio se pueda hacer de forma independiente:"
   ]
  },
  {
   "cell_type": "code",
   "execution_count": 32,
   "metadata": {},
   "outputs": [],
   "source": [
    "def average_gasoline(*args):\n",
    "    total_gas = 0\n",
    "    for arg in args:\n",
    "        total_gas += arg\n",
    "    average_gas = total_gas / len(args)\n",
    "    return average_gas"
   ]
  },
  {
   "cell_type": "code",
   "execution_count": 33,
   "metadata": {},
   "outputs": [
    {
     "name": "stdout",
     "output_type": "stream",
     "text": [
      "The fuel report: \n",
      "        Upper Tank: 20\n",
      "        Intermediate Tank: 30\n",
      "        Bottom Tank: 30\n",
      "        Average Gasoline: 26.666666666666668\n"
     ]
    }
   ],
   "source": [
    "gasoline = report_fuel(20,30,30)\n",
    "print(gasoline)"
   ]
  },
  {
   "cell_type": "markdown",
   "metadata": {},
   "source": [
    "## Trabajo con argumentos de palabra clave\n",
    "\n",
    "En este ejercicio, construirás un informe de cohete que requiere varias piezas de información, como el tiempo hasta el destino, el combustible a la izquierda y el nombre del destino. Comienza por crear una función que creará un informe preciso de la misión:"
   ]
  },
  {
   "cell_type": "code",
   "execution_count": 34,
   "metadata": {},
   "outputs": [
    {
     "name": "stdout",
     "output_type": "stream",
     "text": [
      " Mision Report: \n",
      "    Pre-launch time: 12\n",
      "    Flight time: 72\n",
      "    Destination: Moon\n",
      "    External tank: 300\n",
      "    Main Tank: 120\n"
     ]
    }
   ],
   "source": [
    "def mision_title(prelaunch_time, flight_time, destination, external_tank, main_tank):\n",
    "    return f\"\"\" Mission Report: \n",
    "    Pre-launch time: {prelaunch_time}\n",
    "    Flight time: {flight_time}\n",
    "    Destination: {destination}\n",
    "    External tank: {external_tank}\n",
    "    Main Tank: {main_tank}\"\"\"\n",
    "\n",
    "print(mision_title(12, 72, \"Moon\", 300, 120))\n"
   ]
  },
  {
   "cell_type": "markdown",
   "metadata": {},
   "source": [
    "La función es problemática porque no se puede adaptar para minutos adicionales o tanques adicionales de combustible. Hazlo más flexible permitiendo cualquier número de pasos basados en el tiempo y cualquier número de tanques. En lugar de usar *args y **kwargs, aprovecha el hecho de que puedes usar cualquier nombre que desees. Asegurate que la función sea más legible mediante el uso de nombres de variables que están asociados con las entradas, como *minutes y **fuel_reservoirs:"
   ]
  },
  {
   "cell_type": "code",
   "execution_count": 36,
   "metadata": {},
   "outputs": [
    {
     "name": "stdout",
     "output_type": "stream",
     "text": [
      "Mission Report\n",
      "    Destination: Mars,\n",
      "    Total travel time: 53 minutes\n",
      "    Total fuel: 500\n"
     ]
    }
   ],
   "source": [
    "def mission_report(destination, *minutes, **fuel_reservoirs):\n",
    "    return f\"\"\"Mission Report\n",
    "    Destination: {destination},\n",
    "    Total travel time: {sum(minutes)} minutes\n",
    "    Total fuel: {sum(fuel_reservoirs.values())}\"\"\"\n",
    "\n",
    "print(mission_report('Mars', 30, 23, external_tank = 200, main_tank = 300))"
   ]
  },
  {
   "cell_type": "markdown",
   "metadata": {},
   "source": [
    "Debido a que el combustible que queda en los tanques es específico de cada tanque, actualiza la función para usar el nombre de cada tanque en el informe:"
   ]
  },
  {
   "cell_type": "code",
   "execution_count": 50,
   "metadata": {},
   "outputs": [
    {
     "name": "stdout",
     "output_type": "stream",
     "text": [
      "Mission Report\n",
      "    Destination: Mars,\n",
      "    Total travel time: 53 minutes\n",
      "    Total fuel: 500 gallons\n",
      "    external_tank : 200 gallons \n",
      "    main_tank : 300 gallons \n",
      "    \n"
     ]
    }
   ],
   "source": [
    "def mission_report(destination, *minutes, **fuel_reservoirs):\n",
    "    main_report = f\"\"\"Mission Report\n",
    "    Destination: {destination},\n",
    "    Total travel time: {sum(minutes)} minutes\n",
    "    Total fuel: {sum(fuel_reservoirs.values())} gallons\n",
    "    \"\"\"\n",
    "    for name_tank, gallons in fuel_reservoirs.items():\n",
    "        main_report += f\"{name_tank} : {gallons} gallons \\n    \"\n",
    "    return main_report\n",
    "\n",
    "print(mission_report('Mars', 30, 23, external_tank = 200, main_tank = 300))\n"
   ]
  }
 ],
 "metadata": {
  "interpreter": {
   "hash": "df0893f56f349688326838aaeea0de204df53a132722cbd565e54b24a8fec5f6"
  },
  "kernelspec": {
   "display_name": "Python 3.8.10 64-bit",
   "language": "python",
   "name": "python3"
  },
  "language_info": {
   "codemirror_mode": {
    "name": "ipython",
    "version": 3
   },
   "file_extension": ".py",
   "mimetype": "text/x-python",
   "name": "python",
   "nbconvert_exporter": "python",
   "pygments_lexer": "ipython3",
   "version": "3.8.10"
  },
  "orig_nbformat": 4
 },
 "nbformat": 4,
 "nbformat_minor": 2
}
